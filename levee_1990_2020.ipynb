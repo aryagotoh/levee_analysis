{
 "cells": [
  {
   "cell_type": "code",
   "execution_count": 2,
   "id": "098156ee-2a72-4265-b4b7-69f8a64ec5ca",
   "metadata": {},
   "outputs": [],
   "source": [
    "import sys\n",
    "import geemap\n",
    "import ee\n",
    "\n",
    "ee.Initialize()\n",
    "ee.Authenticate()\n",
    "geemap.ee_initialize()\n",
    "\n",
    "#import functions from RivWidthCloud\n",
    "#NOTE: had to download it locally; couldn't get external .js modules to work\n",
    "module_path = r'C:\\Users\\<username>\\CursorProjects\\testproject\\jupyter\\RivWidthCloud_Python'\n",
    "import RivWidthCloud_Python.functions_centerline_width as clFunctions\n",
    "import RivWidthCloud_Python.functions_river as riverFunctions"
   ]
  },
  {
   "cell_type": "code",
   "execution_count": 3,
   "id": "53a2fd6b",
   "metadata": {},
   "outputs": [
    {
     "data": {
      "text/html": [
       "\n",
       "            <style>\n",
       "                .geemap-dark {\n",
       "                    --jp-widgets-color: white;\n",
       "                    --jp-widgets-label-color: white;\n",
       "                    --jp-ui-font-color1: white;\n",
       "                    --jp-layout-color2: #454545;\n",
       "                    background-color: #383838;\n",
       "                }\n",
       "\n",
       "                .geemap-dark .jupyter-button {\n",
       "                    --jp-layout-color3: #383838;\n",
       "                }\n",
       "\n",
       "                .geemap-colab {\n",
       "                    background-color: var(--colab-primary-surface-color, white);\n",
       "                }\n",
       "\n",
       "                .geemap-colab .jupyter-button {\n",
       "                    --jp-layout-color3: var(--colab-primary-surface-color, white);\n",
       "                }\n",
       "            </style>\n",
       "            "
      ],
      "text/plain": [
       "<IPython.core.display.HTML object>"
      ]
     },
     "metadata": {},
     "output_type": "display_data"
    }
   ],
   "source": [
    "#test reach from A2.4 River Morphology (Rio Madre de Dios)\n",
    "aoi = ee.Geometry.Polygon([\n",
    "    [\n",
    "        [-67.18414102495456, -11.402427204567534],\n",
    "        [-66.57886300981784, -11.402427204567534],\n",
    "        [-66.57886300981784, -11.09095257894929],\n",
    "        [-67.18414102495456, -11.09095257894929],\n",
    "        [-67.18414102495456, -11.402427204567534]\n",
    "    ]\n",
    "])\n",
    "sword = ee.FeatureCollection('projects/gee-book/assets/A2-4/SWORD')\n",
    "\n",
    "#UTM projection from coords\n",
    "def get_utm_proj(lon, lat):\n",
    "    utm_code = ee.Number(lon).add(180).divide(6).ceil().int()\n",
    "    output = ee.Algorithms.If(\n",
    "        ee.Number(lat).gte(0),\n",
    "        ee.String('EPSG:326').cat(utm_code.format('%02d')),\n",
    "        ee.String('EPSG:327').cat(utm_code.format('%02d'))\n",
    "    )\n",
    "    return output\n",
    "\n",
    "#coords for the reach centroid\n",
    "coords = aoi.centroid(30).coordinates()\n",
    "lon = coords.get(0)\n",
    "lat = coords.get(1)\n",
    "crs = get_utm_proj(lon, lat)\n",
    "scale = ee.Number(30)\n",
    "\n",
    "#reproject image to crs and scale\n",
    "def rpj(image):\n",
    "    return image.reproject(crs = crs.getInfo(), scale = scale.getInfo())\n",
    "\n",
    "#initialize map for rendering\n",
    "Map = geemap.Map()"
   ]
  },
  {
   "cell_type": "code",
   "execution_count": 7,
   "id": "38477636",
   "metadata": {},
   "outputs": [
    {
     "data": {
      "text/html": [
       "\n",
       "            <style>\n",
       "                .geemap-dark {\n",
       "                    --jp-widgets-color: white;\n",
       "                    --jp-widgets-label-color: white;\n",
       "                    --jp-ui-font-color1: white;\n",
       "                    --jp-layout-color2: #454545;\n",
       "                    background-color: #383838;\n",
       "                }\n",
       "\n",
       "                .geemap-dark .jupyter-button {\n",
       "                    --jp-layout-color3: #383838;\n",
       "                }\n",
       "\n",
       "                .geemap-colab {\n",
       "                    background-color: var(--colab-primary-surface-color, white);\n",
       "                }\n",
       "\n",
       "                .geemap-colab .jupyter-button {\n",
       "                    --jp-layout-color3: var(--colab-primary-surface-color, white);\n",
       "                }\n",
       "            </style>\n",
       "            "
      ],
      "text/plain": [
       "<IPython.core.display.HTML object>"
      ]
     },
     "metadata": {},
     "output_type": "display_data"
    },
    {
     "data": {
      "application/vnd.jupyter.widget-view+json": {
       "model_id": "dd8d6a091d974bca86fc695ab289a137",
       "version_major": 2,
       "version_minor": 0
      },
      "text/plain": [
       "Map(bottom=557442.0, center=[-11.207366028807511, -66.82743072509767], controls=(WidgetControl(options=['posit…"
      ]
     },
     "execution_count": 7,
     "metadata": {},
     "output_type": "execute_result"
    }
   ],
   "source": [
    "##IMPORT AND VISUALIZE SURFACE WATER MASK.\n",
    "#sample surface water dataset (A2.4 uses v1.3 instead of v1.4)\n",
    "jrc_yearly = ee.ImageCollection('JRC/GSW1_4/YearlyHistory')\n",
    "\n",
    "#prune centerline to remove spurious branches\n",
    "MAXDISTANCE_BRANCH_REMOVAL = 500\n",
    "\n",
    "#map setup; background optional\n",
    "Map.centerObject(aoi)\n",
    "#Map.addLayer(ee.Image.constant(0), {'min': 0, 'palette': ['black']}, 'background', True)\n",
    "\n",
    "#seasonal and permanent pixels image representing years 1990-2020 in 5yr increments\n",
    "#aoi layers for 1990 - 2020\n",
    "for year in range(1990, 2020, 5):\n",
    "    ##REMOVE NOISE AND SMALL ISLANDS TO SIMPLIFY TOPOLOGY.\n",
    "    watermask = jrc_yearly.filter(ee.Filter.eq('year', year)).first().gte(2).unmask(0).clip(aoi)\n",
    "\n",
    "    #image closure operation to fill small holes\n",
    "    watermask = watermask.focal_max().focal_min()\n",
    "\n",
    "    #identify small bars and fill them in to create a filled water mask.\n",
    "    MIN_SIZE = 2000\n",
    "    barPolys = watermask.Not().selfMask().reduceToVectors(\n",
    "        geometry = aoi,\n",
    "        scale = 30,\n",
    "        eightConnected = True,\n",
    "    ).filter(ee.Filter.lte('count', MIN_SIZE))  #get small polys\n",
    "    filled = watermask.paint(barPolys, 1)\n",
    "\n",
    "    ##IDENTIFYING RIVERS FROM OTHER TYPES OF WATER BODIES.\n",
    "    #cumulative cost mapping to find pixels connected to a reference centerline\n",
    "    costmap = filled.Not().cumulativeCost(\n",
    "        source = watermask.And(ee.Image().toByte().paint(sword, 1)),\n",
    "        maxDistance = 3000,\n",
    "        geodeticDistance = False\n",
    "    )\n",
    "\n",
    "    rivermask = costmap.eq(0).rename('riverMask')\n",
    "    channelmask = rivermask.And(watermask)\n",
    "\n",
    "    #calculate distance from shoreline using distance transform\n",
    "    distance = clFunctions.CalcDistanceMap(rivermask, 256, scale)\n",
    "\n",
    "    #calculate gradient of the distance raster (2nd approach)\n",
    "    gradient = clFunctions.CalcGradientMap(distance, 2, scale)\n",
    "\n",
    "    #threshold the gradient raster and derive 1px width centerline using skeletonization\n",
    "    centerlineRaw = clFunctions.CalcOnePixelWidthCenterline(rivermask, gradient, 0.9)\n",
    "    raw1pxCenterline = rpj(centerlineRaw.eq(1).selfMask())\n",
    "\n",
    "    #pruning centerline\n",
    "    cl1px = clFunctions.CleanCenterline(centerlineRaw, MAXDISTANCE_BRANCH_REMOVAL, True)\n",
    "    cl1px = clFunctions.CleanCenterline(cl1px, MAXDISTANCE_BRANCH_REMOVAL, False)\n",
    "    final1pxCenterline = rpj(cl1px).eq(1).selfMask()\n",
    "\n",
    "    #vectorize centerline\n",
    "    vectorPoly = final1pxCenterline.reduceToVectors(\n",
    "        geometryType='polygon',\n",
    "        scale=30,\n",
    "        crs=crs.getInfo(),\n",
    "        geometry=aoi,\n",
    "        eightConnected = True,\n",
    "    )\n",
    "\n",
    "    #Map.addLayer(rpj(rivermask), {}, f'rivermask {year}', True)\n",
    "    Map.addLayer(vectorPoly, {}, f'centerline {year}', True)\n",
    "\n",
    "Map.addLayerControl()\n",
    "Map"
   ]
  }
 ],
 "metadata": {
  "kernelspec": {
   "display_name": "Python 3 (ipykernel)",
   "language": "python",
   "name": "python3"
  },
  "language_info": {
   "codemirror_mode": {
    "name": "ipython",
    "version": 3
   },
   "file_extension": ".py",
   "mimetype": "text/x-python",
   "name": "python",
   "nbconvert_exporter": "python",
   "pygments_lexer": "ipython3",
   "version": "3.9.6"
  }
 },
 "nbformat": 4,
 "nbformat_minor": 5
}
