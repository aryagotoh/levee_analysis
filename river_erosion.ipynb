{
 "cells": [
  {
   "cell_type": "code",
   "execution_count": 33,
   "id": "f72fbc4e",
   "metadata": {},
   "outputs": [
    {
     "data": {
      "text/html": [
       "\n",
       "            <style>\n",
       "                .geemap-dark {\n",
       "                    --jp-widgets-color: white;\n",
       "                    --jp-widgets-label-color: white;\n",
       "                    --jp-ui-font-color1: white;\n",
       "                    --jp-layout-color2: #454545;\n",
       "                    background-color: #383838;\n",
       "                }\n",
       "\n",
       "                .geemap-dark .jupyter-button {\n",
       "                    --jp-layout-color3: #383838;\n",
       "                }\n",
       "\n",
       "                .geemap-colab {\n",
       "                    background-color: var(--colab-primary-surface-color, white);\n",
       "                }\n",
       "\n",
       "                .geemap-colab .jupyter-button {\n",
       "                    --jp-layout-color3: var(--colab-primary-surface-color, white);\n",
       "                }\n",
       "            </style>\n",
       "            "
      ],
      "text/plain": [
       "<IPython.core.display.HTML object>"
      ]
     },
     "metadata": {},
     "output_type": "display_data"
    }
   ],
   "source": [
    "import math\n",
    "import ee\n",
    "import geemap\n",
    "ee.Authenticate()\n",
    "ee.Initialize()\n",
    "geemap.ee_initialize()\n",
    "\n",
    "#initial surface water mask and additional data\n",
    "jrcYearly = ee.ImageCollection('JRC/GSW1_4/YearlyHistory')\n",
    "sword = ee.FeatureCollection('projects/gee-book/assets/A2-4/SWORD')\n",
    "aoi = ee.Geometry.Polygon([\n",
    "    [\n",
    "        [-67.18414102495456, -11.402427204567534],\n",
    "        [-66.57886300981784, -11.402427204567534],\n",
    "        [-66.57886300981784, -11.09095257894929],\n",
    "        [-67.18414102495456, -11.09095257894929],\n",
    "        [-67.18414102495456, -11.402427204567534]\n",
    "    ]\n",
    "])"
   ]
  },
  {
   "cell_type": "code",
   "execution_count": 34,
   "id": "1486fef9",
   "metadata": {},
   "outputs": [
    {
     "data": {
      "text/html": [
       "\n",
       "            <style>\n",
       "                .geemap-dark {\n",
       "                    --jp-widgets-color: white;\n",
       "                    --jp-widgets-label-color: white;\n",
       "                    --jp-ui-font-color1: white;\n",
       "                    --jp-layout-color2: #454545;\n",
       "                    background-color: #383838;\n",
       "                }\n",
       "\n",
       "                .geemap-dark .jupyter-button {\n",
       "                    --jp-layout-color3: #383838;\n",
       "                }\n",
       "\n",
       "                .geemap-colab {\n",
       "                    background-color: var(--colab-primary-surface-color, white);\n",
       "                }\n",
       "\n",
       "                .geemap-colab .jupyter-button {\n",
       "                    --jp-layout-color3: var(--colab-primary-surface-color, white);\n",
       "                }\n",
       "            </style>\n",
       "            "
      ],
      "text/plain": [
       "<IPython.core.display.HTML object>"
      ]
     },
     "metadata": {},
     "output_type": "display_data"
    }
   ],
   "source": [
    "#given lon & lat in decimal degrees, return ESPG string for the UTM projection\n",
    "def getUTMProj(lon,lat):\n",
    "    utmCode = ee.Number(lon).add(180).divide(6).ceil().int()\n",
    "    output = ee.Algorithms.If(\n",
    "        condition = ee.Number(lat).gte(0),\n",
    "        trueCase = ee.String('EPSG:326').cat(utmCode.format('%02d')),\n",
    "        falseCase = ee.String('EPSG:327').cat(utmCode.format('%02d'))\n",
    "    )\n",
    "\n",
    "    return output\n",
    "\n",
    "#values for aoi\n",
    "coords = aoi.centroid(30).coordinates()\n",
    "lon = coords.get(0)\n",
    "lat = coords.get(1)\n",
    "crs = getUTMProj(lon, lat)\n",
    "scale = 30\n",
    "\n",
    "#reproject data to aoi\n",
    "def rpj(image):\n",
    "    return image.reproject(crs = crs.getInfo(), scale = scale)\n",
    "\n",
    "#length of each pixel (30m*30m)\n",
    "distanceKernel = ee.Kernel.euclidean(\n",
    "    radius=30, \n",
    "    units = 'meters', \n",
    "    magnitude = 0.5\n",
    ")\n",
    "\n",
    "def makeChannelmask(year):\n",
    "    #image closure operation to fill small holes\n",
    "    watermask = jrcYearly.filter(ee.Filter.eq('year', year)).first().gte(2).unmask(0).focal_max().focal_min().rename('watermask')\n",
    "\n",
    "    #identify small bars and fill them in\n",
    "    barPolys = watermask.Not().selfMask().reduceToVectors(\n",
    "        geometry = aoi, \n",
    "        scale = 30, \n",
    "        eightConnected = True\n",
    "    ).filter(ee.Filter.lte('count', 10000))  #get small polys\n",
    "    filled = watermask.paint(barPolys, 1).rename('filled')\n",
    "\n",
    "    #cumultive cost mapping to find pixels connected to a centerline\n",
    "    costmap = filled.Not().cumulativeCost(\n",
    "        source = watermask.And(ee.Image().toByte().paint(sword, 1)),\n",
    "        maxDistance = 3000,\n",
    "        geodeticDistance = False\n",
    "    ).rename('costmap')\n",
    "\n",
    "    rivermask = costmap.eq(0).rename('rivermask')\n",
    "    channelmask = rivermask.And(watermask).rename('channelmask')\n",
    "\n",
    "    #dilate channelmask to identify banks\n",
    "    bankMask = channelmask.focal_max(1).neq(channelmask).rename('bankMask')\n",
    "\n",
    "    #aspect/compass direction of bank faces based on bank distances\n",
    "    bankDistance = channelmask.Not().cumulativeCost(\n",
    "        source = channelmask,\n",
    "        maxDistance = 100,\n",
    "        geodeticDistance = False\n",
    "    )\n",
    "    bankAspect = ee.Terrain.aspect(bankDistance).multiply(math.pi).divide(180).mask(bankMask).rename('bankAspect')\n",
    "    \n",
    "    #smoothes bankMask based on distanceKernel; remasks smoothed image to bankMask\n",
    "    bankLength = bankMask.convolve(distanceKernel).mask(bankMask).rename('bankLength')\n",
    "\n",
    "    #combining all generated characteristics into one image\n",
    "    return ee.Image.cat([\n",
    "        watermask, channelmask, rivermask, bankMask, bankAspect, bankLength\n",
    "    ]).set('year', year).clip(aoi)"
   ]
  },
  {
   "cell_type": "code",
   "execution_count": 35,
   "id": "09c65c63",
   "metadata": {},
   "outputs": [
    {
     "data": {
      "text/html": [
       "\n",
       "            <style>\n",
       "                .geemap-dark {\n",
       "                    --jp-widgets-color: white;\n",
       "                    --jp-widgets-label-color: white;\n",
       "                    --jp-ui-font-color1: white;\n",
       "                    --jp-layout-color2: #454545;\n",
       "                    background-color: #383838;\n",
       "                }\n",
       "\n",
       "                .geemap-dark .jupyter-button {\n",
       "                    --jp-layout-color3: #383838;\n",
       "                }\n",
       "\n",
       "                .geemap-colab {\n",
       "                    background-color: var(--colab-primary-surface-color, white);\n",
       "                }\n",
       "\n",
       "                .geemap-colab .jupyter-button {\n",
       "                    --jp-layout-color3: var(--colab-primary-surface-color, white);\n",
       "                }\n",
       "            </style>\n",
       "            "
      ],
      "text/plain": [
       "<IPython.core.display.HTML object>"
      ]
     },
     "metadata": {},
     "output_type": "display_data"
    }
   ],
   "source": [
    "#sample years to calculate change (can change to list: masks = ee.List.sequence(1990,2020,5).map(makeChannelmask))\n",
    "masks1= makeChannelmask(2015)\n",
    "masks2 = makeChannelmask(2020)\n",
    "\n",
    "#pixels that are now the river channel but were previously land\n",
    "#NOTE: erosion and masks set to pixel units, but can change to area with: ee.Image.pixelArea()\n",
    "erosion = masks2.select('channelmask').And(masks1.select('watermask').Not()).rename('erosion')\n",
    "\n",
    "#erosion distance assuming shortest distance between banks\n",
    "erosionEndpoints = erosion.focal_max(1).And(masks2.select('bankMask'))\n",
    "erosionDistance= erosion.focal_max(1).selfMask().cumulativeCost(\n",
    "    source = erosionEndpoints,\n",
    "    maxDistance = 1000,\n",
    "    geodeticDistance = True\n",
    ").rename('erosionDistance')\n",
    "\n",
    "#erosion direction following slope of distance\n",
    "erosionDirection = ee.Terrain.aspect(erosionDistance).multiply(math.pi).divide(180).clip(aoi).rename('erosionDirection')\n",
    "erosionDistance = erosionDistance.mask(erosion)\n",
    "\n",
    "#distance to nearest SWORD centerline point\n",
    "distance = sword.distance(2000).clip(aoi)\n",
    "\n",
    "#second derivatives of distance, finding the 0s identifies boundaries between centerline points\n",
    "concavityBounds = distance.convolve(ee.Kernel.laplacian8()).gte(0).rename('bounds')\n",
    "\n",
    "#reduce pixels according to concavity boundaries; set value to SWORD node ID; focalMode to fill empty pixels that were boundaries\n",
    "swordImg = ee.Image(0).paint(sword, 'node_id').rename('node_id').clip(aoi)\n",
    "nodePixels = concavityBounds.addBands(swordImg).reduceConnectedComponents(\n",
    "    reducer = ee.Reducer.max(),\n",
    "    labelBand = 'bounds'\n",
    ").focalMode(\n",
    "    radius = 3,\n",
    "    iterations=2\n",
    ")"
   ]
  },
  {
   "cell_type": "code",
   "execution_count": 39,
   "id": "3870bb77",
   "metadata": {},
   "outputs": [
    {
     "data": {
      "text/html": [
       "\n",
       "            <style>\n",
       "                .geemap-dark {\n",
       "                    --jp-widgets-color: white;\n",
       "                    --jp-widgets-label-color: white;\n",
       "                    --jp-ui-font-color1: white;\n",
       "                    --jp-layout-color2: #454545;\n",
       "                    background-color: #383838;\n",
       "                }\n",
       "\n",
       "                .geemap-dark .jupyter-button {\n",
       "                    --jp-layout-color3: #383838;\n",
       "                }\n",
       "\n",
       "                .geemap-colab {\n",
       "                    background-color: var(--colab-primary-surface-color, white);\n",
       "                }\n",
       "\n",
       "                .geemap-colab .jupyter-button {\n",
       "                    --jp-layout-color3: var(--colab-primary-surface-color, white);\n",
       "                }\n",
       "            </style>\n",
       "            "
      ],
      "text/plain": [
       "<IPython.core.display.HTML object>"
      ]
     },
     "metadata": {},
     "output_type": "display_data"
    }
   ],
   "source": [
    "#data summary\n",
    "def groupReduce(dataImg, nodeIds, reducer):\n",
    "    groupReducer = reducer.forEach(dataImg.bandNames()).group(\n",
    "        groupField = dataImg.bandNames().length(),\n",
    "        groupName = 'node_id'\n",
    "    )\n",
    "\n",
    "    #apply grouped reducer\n",
    "    statsList = dataImg.addBands(nodeIds).clip(aoi).reduceRegion(\n",
    "        reducer = groupReducer,\n",
    "        maxPixels = 1e8,\n",
    "        scale = 30\n",
    "    ).get('groups')\n",
    "\n",
    "    #convert dictionaries to FeatureCollection\n",
    "    statsOut = ee.List(statsList).map(lambda d: ee.Feature(None, d))\n",
    "    return ee.FeatureCollection(statsOut)\n",
    "\n",
    "#reducer to get total number of pixels each (distances)\n",
    "dataMask = masks1.addBands(masks2).reduce(ee.Reducer.anyNonZero())\n",
    "sumBands = ['watermask', 'channelmask', 'bankLength']\n",
    "sumImg = erosion.addBands(masks1, sumBands).addBands(masks2, sumBands)\n",
    "sumStats = groupReduce(sumImg,nodePixels, ee.Reducer.sum())\n",
    "\n",
    "#reducer to find mean direction\n",
    "angleImg = erosionDirection.addBands(masks1, ['bankAspect']).addBands(masks2,['bankAspect'])\n",
    "angleStats = groupReduce(angleImg, nodePixels, ee.Reducer.circularMean())\n",
    "\n",
    "#join the 2 feature collections to original centerline data\n",
    "def copyProperties(feat):\n",
    "    nodeFilter = ee.Filter.eq('node_id', feat.get('node_id'))\n",
    "    sumFeat = sumStats.filter(nodeFilter).first()\n",
    "    angleFeat = angleStats.filter(nodeFilter).first() \n",
    "    feat = feat.copyProperties(sumFeat).copyProperties(angleFeat)\n",
    "    if angleFeat:\n",
    "        feat = feat.set('erosionDirection', angleFeat.get('bankAspect'))\n",
    "    return feat\n",
    "#filter sword by aoi and map the copyProperties function over the features\n",
    "vectorData = sword.filterBounds(aoi).map(copyProperties)\n",
    "\n",
    "#print final FeatureCollection\n",
    "#print(vectorData.getInfo())\n",
    "\n",
    "#export data as CSV to Drive\n",
    "export = ee.batch.Export.table.toDrive(collection=vectorData, description='RiverErosion_2015_2020', fileFormat='CSV')\n",
    "export.start()"
   ]
  },
  {
   "cell_type": "code",
   "execution_count": null,
   "id": "53e2620f",
   "metadata": {},
   "outputs": [
    {
     "data": {
      "text/html": [
       "\n",
       "            <style>\n",
       "                .geemap-dark {\n",
       "                    --jp-widgets-color: white;\n",
       "                    --jp-widgets-label-color: white;\n",
       "                    --jp-ui-font-color1: white;\n",
       "                    --jp-layout-color2: #454545;\n",
       "                    background-color: #383838;\n",
       "                }\n",
       "\n",
       "                .geemap-dark .jupyter-button {\n",
       "                    --jp-layout-color3: #383838;\n",
       "                }\n",
       "\n",
       "                .geemap-colab {\n",
       "                    background-color: var(--colab-primary-surface-color, white);\n",
       "                }\n",
       "\n",
       "                .geemap-colab .jupyter-button {\n",
       "                    --jp-layout-color3: var(--colab-primary-surface-color, white);\n",
       "                }\n",
       "            </style>\n",
       "            "
      ],
      "text/plain": [
       "<IPython.core.display.HTML object>"
      ]
     },
     "metadata": {},
     "output_type": "display_data"
    },
    {
     "data": {
      "application/vnd.jupyter.widget-view+json": {
       "model_id": "361cc63773874a8893a002276cbf2d33",
       "version_major": 2,
       "version_minor": 0
      },
      "text/plain": [
       "Map(center=[-11.246814724383926, -66.881502017386], controls=(WidgetControl(options=['position', 'transparent_…"
      ]
     },
     "execution_count": 32,
     "metadata": {},
     "output_type": "execute_result"
    }
   ],
   "source": [
    "#initialize map for rendering\n",
    "Map = geemap.Map()\n",
    "Map.centerObject(aoi, 13)\n",
    "\n",
    "#layers\n",
    "year1mask = rpj(masks1.select('channelmask').selfMask())\n",
    "Map.addLayer(year1mask, {'palette': ['blue']}, '2015')\n",
    "year2mask = rpj(masks2.select('channelmask').selfMask())\n",
    "Map.addLayer(year2mask, {'palette': ['red']}, '2020', True, 0.5)\n",
    "Map.addLayer(rpj(erosion).selfMask(), {'palette': ['red']}, 'erosion', True)\n",
    "Map.addLayer(rpj(nodePixels).randomVisualizer(), {}, 'node assignments', True)\n",
    "#Map.addLayer(rpj(distance), {'min': 0, 'max': 1000}, 'distance', True)\n",
    "#Map.addLayer(rpj(erosionDistance), {'min': 0, 'max':300}, 'erosion distance', True)\n",
    "#Map.addLayer(rpj(erosionDirection), {'min': 0, 'max': math.pi}, 'erosion direction', True)\n",
    "Map.addLayer(vectorData, {}, 'final data nodes')\n",
    "\n",
    "Map.addLayerControl()\n",
    "Map"
   ]
  }
 ],
 "metadata": {
  "kernelspec": {
   "display_name": "Python 3 (ipykernel)",
   "language": "python",
   "name": "python3"
  },
  "language_info": {
   "codemirror_mode": {
    "name": "ipython",
    "version": 3
   },
   "file_extension": ".py",
   "mimetype": "text/x-python",
   "name": "python",
   "nbconvert_exporter": "python",
   "pygments_lexer": "ipython3",
   "version": "3.9.6"
  }
 },
 "nbformat": 4,
 "nbformat_minor": 5
}
